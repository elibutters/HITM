{
 "cells": [
  {
   "cell_type": "code",
   "execution_count": 233,
   "metadata": {},
   "outputs": [],
   "source": [
    "import pandas as pd\n",
    "import numpy as np\n",
    "import pickle\n",
    "import matplotlib.pyplot as plt\n",
    "import math\n",
    "from datetime import datetime, timedelta\n",
    "\n",
    "#Read In VIX data\n",
    "vix = pd.read_csv('data/VIX_History.csv')\n",
    "vix['DATEi'] = pd.to_datetime(vix['DATE'])\n",
    "#vix.drop(columns=['DATE', 'LOW', 'OPEN', 'HIGH'], inplace=True)\n",
    "#vix.columns = ['VIX', 'DATEi']\n",
    "vix = vix.set_index('DATEi')\n",
    "vix_rolling = vix['CLOSE'].rolling(60).mean()\n",
    "\n",
    "claims = pd.read_csv('data/Initial_Jobless_Claims.csv')\n",
    "#claims['DATEi'] = pd.to_datetime(claims['DATE'])\n",
    "#claims.drop(columns=['DATE'], inplace=True)\n",
    "claims = claims.set_index('DATE')\n",
    "\n",
    "spy = pd.read_csv('data/SPY.csv')\n",
    "spy = spy.set_index('Date')\n",
    "spy['Change'] = spy['Close'].pct_change()\n",
    "\n",
    "with open('data/R2_STD_IVS_DFW.pkl', 'rb') as file:\n",
    "    standard_ivs = pickle.load(file)"
   ]
  },
  {
   "cell_type": "code",
   "execution_count": 234,
   "metadata": {},
   "outputs": [],
   "source": [
    "lstm_input = pd.DataFrame(index=list(standard_ivs.keys()))\n",
    "columns = ['log_spy_change', '22_IV_AVG', '5_IV_AVG', '1_IV_AVG', 'jobless_claims', 'day_of_week', 'day_of_month', 'SPY_VOL', 'VIX_level', '60_VIX_AVG']\n",
    "for col in columns:\n",
    "    lstm_input[col] = np.nan"
   ]
  },
  {
   "cell_type": "markdown",
   "metadata": {},
   "source": [
    "## Form Claims List"
   ]
  },
  {
   "cell_type": "code",
   "execution_count": 235,
   "metadata": {},
   "outputs": [],
   "source": [
    "def date_range(start_date_str):\n",
    "    start_date = datetime.strptime(start_date_str, \"%Y-%m-%d\")\n",
    "    end_date = datetime.now()\n",
    "    date_list = []\n",
    "\n",
    "    while start_date <= end_date:\n",
    "        date_list.append(start_date.strftime(\"%Y-%m-%d\"))\n",
    "        start_date += timedelta(days=1)\n",
    "\n",
    "    return date_list\n",
    "\n",
    "start_date = \"2010-02-01\"\n",
    "claims_full = pd.DataFrame(index=date_range(start_date))\n",
    "claims_full['Claims'] = np.nan\n",
    "\n",
    "for date in claims.index:\n",
    "    if date in claims_full.index:\n",
    "        claims_full.loc[date]['Claims'] = claims.loc[date]['ICSA']\n",
    "claims_full['Claims'] = claims_full['Claims'].ffill()"
   ]
  },
  {
   "cell_type": "code",
   "execution_count": 236,
   "metadata": {},
   "outputs": [],
   "source": [
    "avgs = [standard_ivs[day].mean().mean() for day in standard_ivs.keys()]\n",
    "ivs_avgs = pd.DataFrame(index=lstm_input.index)\n",
    "ivs_avgs['1_IV_AVG'] = avgs\n",
    "ivs_avgs['5_IV_AVG'] = ivs_avgs['1_IV_AVG'].rolling(5, min_periods=1).mean()\n",
    "ivs_avgs['22_IV_AVG'] = ivs_avgs['1_IV_AVG'].rolling(22, min_periods=1).mean()"
   ]
  },
  {
   "cell_type": "markdown",
   "metadata": {},
   "source": [
    "### Fill DataFrame"
   ]
  },
  {
   "cell_type": "code",
   "execution_count": 237,
   "metadata": {},
   "outputs": [],
   "source": [
    "for date in spy.index:\n",
    "    if date in lstm_input.index:\n",
    "        lstm_input.loc[date, 'log_spy_change'] = math.log1p(spy.loc[date]['Change'])\n",
    "        lstm_input.loc[date, 'VIX_level'] = vix.loc[date]['CLOSE']\n",
    "        lstm_input.loc[date, 'SPY_VOL'] = spy.loc[date]['Volume']\n",
    "        lstm_input.loc[date, 'day_of_month'] = int(date[-2:])\n",
    "        lstm_input.loc[date, 'day_of_week'] = int(pd.to_datetime(date).weekday())\n",
    "        lstm_input.loc[date, 'jobless_claims'] = claims_full.loc[date]['Claims']\n",
    "        lstm_input.loc[date, '60_VIX_AVG'] = vix_rolling[date]\n",
    "lstm_input['1_IV_AVG'] = ivs_avgs['1_IV_AVG']\n",
    "lstm_input['5_IV_AVG'] = ivs_avgs['5_IV_AVG']\n",
    "lstm_input['22_IV_AVG'] = ivs_avgs['22_IV_AVG']"
   ]
  },
  {
   "cell_type": "code",
   "execution_count": 260,
   "metadata": {},
   "outputs": [
    {
     "data": {
      "text/plain": [
       "3409"
      ]
     },
     "execution_count": 260,
     "metadata": {},
     "output_type": "execute_result"
    }
   ],
   "source": [
    "test = lstm_input.copy()\n",
    "#test.iloc[1]['log_spy_change'] = 0\n",
    "len(test)"
   ]
  },
  {
   "cell_type": "code",
   "execution_count": 239,
   "metadata": {},
   "outputs": [],
   "source": [
    "lstm_input.to_csv('data/Exogenous_Variables.csv')"
   ]
  }
 ],
 "metadata": {
  "kernelspec": {
   "display_name": "tensorflow",
   "language": "python",
   "name": "python3"
  },
  "language_info": {
   "codemirror_mode": {
    "name": "ipython",
    "version": 3
   },
   "file_extension": ".py",
   "mimetype": "text/x-python",
   "name": "python",
   "nbconvert_exporter": "python",
   "pygments_lexer": "ipython3",
   "version": "3.10.9"
  }
 },
 "nbformat": 4,
 "nbformat_minor": 2
}
