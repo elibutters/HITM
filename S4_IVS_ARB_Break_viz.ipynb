{
 "cells": [
  {
   "cell_type": "code",
   "execution_count": 1,
   "metadata": {},
   "outputs": [],
   "source": [
    "import pandas as pd\n",
    "import numpy as np\n",
    "import seaborn as sns\n",
    "import pickle\n",
    "import matplotlib.pyplot as plt \n",
    "import matplotlib.dates as mdates\n",
    "import math\n",
    "import warnings\n",
    "warnings.filterwarnings(\"ignore\")"
   ]
  },
  {
   "cell_type": "code",
   "execution_count": 9,
   "metadata": {},
   "outputs": [],
   "source": [
    "with open('data/R2_STD_IVS_DFW.pkl', 'rb') as file:\n",
    "    standard_ivs_params = pickle.load(file)"
   ]
  },
  {
   "cell_type": "code",
   "execution_count": 14,
   "metadata": {},
   "outputs": [
    {
     "name": "stdout",
     "output_type": "stream",
     "text": [
      "('2010-02-08',               0.80      0.84      0.88      0.92      0.96      1.00  \\\n",
      "0.041096  0.378948  0.347878  0.320059  0.295491  0.274174  0.256107   \n",
      "0.082192  0.374848  0.343998  0.316400  0.292052  0.270955  0.253109   \n",
      "0.164384  0.366870  0.336462  0.309304  0.285397  0.264741  0.247335   \n",
      "0.249315  0.358939  0.328986  0.302284  0.278832  0.258631  0.241682   \n",
      "0.334247  0.351326  0.321828  0.295581  0.272585  0.252840  0.236345   \n",
      "0.416438  0.344260  0.315203  0.289397  0.266842  0.247538  0.231484   \n",
      "0.498630  0.337492  0.308876  0.283511  0.261396  0.242533  0.226920   \n",
      "0.747945  0.318782  0.291503  0.267475  0.246697  0.229171  0.214895   \n",
      "1.000000  0.302648  0.276720  0.254044  0.234618  0.218444  0.205520   \n",
      "1.498630  0.278970  0.255717  0.235715  0.218964  0.205463  0.195213   \n",
      "2.000000  0.266201  0.245636  0.228323  0.214260  0.203448  0.195887   \n",
      "\n",
      "              1.04      1.08      1.12      1.16      1.20  \n",
      "0.041096  0.241291  0.229726  0.221412  0.216348  0.214536  \n",
      "0.082192  0.238513  0.227169  0.219075  0.214232  0.212639  \n",
      "0.164384  0.233180  0.222277  0.214623  0.210221  0.209070  \n",
      "0.249315  0.227982  0.217534  0.210336  0.206389  0.205693  \n",
      "0.334247  0.223102  0.213109  0.206367  0.202875  0.202635  \n",
      "0.416438  0.218681  0.209129  0.202827  0.199777  0.199977  \n",
      "0.498630  0.214558  0.205446  0.199586  0.196976  0.197617  \n",
      "0.747945  0.203870  0.196095  0.191572  0.190299  0.192277  \n",
      "1.000000  0.195846  0.189424  0.186252  0.186331  0.189661  \n",
      "1.498630  0.188214  0.184466  0.183968  0.186721  0.192725  \n",
      "2.000000  0.191577  0.190518  0.192709  0.198151  0.206844  )\n"
     ]
    }
   ],
   "source": [
    "for i in standard_ivs_params:\n",
    "    print(standard_ivs_params[i])\n",
    "    break"
   ]
  },
  {
   "cell_type": "markdown",
   "metadata": {},
   "source": [
    "## Test for Calender Arbitrage"
   ]
  },
  {
   "cell_type": "code",
   "execution_count": 5,
   "metadata": {},
   "outputs": [
    {
     "data": {
      "text/plain": [
       "77"
      ]
     },
     "execution_count": 5,
     "metadata": {},
     "output_type": "execute_result"
    }
   ],
   "source": [
    "break_counter = 0\n",
    "for date in standard_ivs_params:\n",
    "    test_df = standard_ivs_params[date]\n",
    "    df_t_deriv = test_df.diff(periods=1, axis=0).fillna(method='bfill')\n",
    "    exit_loop = False\n",
    "    for moneyness in test_df.columns:\n",
    "        for dte in test_df.index:\n",
    "            iv = test_df.loc[dte].loc[moneyness]\n",
    "            pderiv_t = df_t_deriv.loc[dte].loc[moneyness]\n",
    "            l_cal = iv + (2 * (dte * 1.0) * pderiv_t)\n",
    "            if l_cal < 0:\n",
    "                exit_loop = True\n",
    "                break\n",
    "        if exit_loop == True:\n",
    "            break_counter += 1\n",
    "            break\n",
    "break_counter"
   ]
  },
  {
   "cell_type": "markdown",
   "metadata": {},
   "source": [
    "## Test for Butterfly Arbitrage"
   ]
  },
  {
   "cell_type": "code",
   "execution_count": 5,
   "metadata": {},
   "outputs": [
    {
     "data": {
      "text/plain": [
       "0"
      ]
     },
     "execution_count": 5,
     "metadata": {},
     "output_type": "execute_result"
    }
   ],
   "source": [
    "break_counter = 0\n",
    "for date in standard_ivs_params:\n",
    "    test_df = standard_ivs_params[date][0]\n",
    "    df_m_deriv = test_df.diff(periods=1, axis=1).fillna(method='bfill', axis=1)\n",
    "    df_mm_deriv = test_df.diff(periods=1, axis=1).fillna(method='bfill', axis=1).diff(periods=1, axis=1).replace(0.0, np.nan).fillna(method='bfill', axis=1)\n",
    "    exit_loop = False\n",
    "    for moneyness in test_df.columns:\n",
    "        for dte in test_df.index:\n",
    "            pderiv_m = df_m_deriv.loc[dte].loc[moneyness]\n",
    "            pderiv_mm = df_mm_deriv.loc[dte].loc[moneyness]\n",
    "            iv = test_df.loc[dte].loc[moneyness]\n",
    "            l_but = ((1 - ((math.log(moneyness) * pderiv_m) / (iv))) ** 2) - (((iv * dte * pderiv_m) ** 2) / 4.0) + (dte * iv * pderiv_mm)\n",
    "            if l_but < 0:\n",
    "                exit_loop = True\n",
    "                break\n",
    "        if exit_loop == True:\n",
    "            break_counter += 1\n",
    "            break\n",
    "break_counter"
   ]
  },
  {
   "cell_type": "markdown",
   "metadata": {},
   "source": [
    "## Non-negative derivate test"
   ]
  },
  {
   "cell_type": "code",
   "execution_count": 6,
   "metadata": {},
   "outputs": [
    {
     "data": {
      "text/plain": [
       "361"
      ]
     },
     "execution_count": 6,
     "metadata": {},
     "output_type": "execute_result"
    }
   ],
   "source": [
    "count = 0\n",
    "for date in standard_ivs_params:\n",
    "    surface = standard_ivs_params[date][0]\n",
    "    surface = surface ** 2\n",
    "    ivars = surface.multiply(surface.index.to_series(), axis=0)\n",
    "    minimum = ivars.diff(periods=1, axis=0).min().min()\n",
    "    if minimum < 0:\n",
    "        count += 1\n",
    "count"
   ]
  }
 ],
 "metadata": {
  "kernelspec": {
   "display_name": "tensorflow",
   "language": "python",
   "name": "python3"
  },
  "language_info": {
   "codemirror_mode": {
    "name": "ipython",
    "version": 3
   },
   "file_extension": ".py",
   "mimetype": "text/x-python",
   "name": "python",
   "nbconvert_exporter": "python",
   "pygments_lexer": "ipython3",
   "version": "3.10.9"
  }
 },
 "nbformat": 4,
 "nbformat_minor": 2
}
